{
 "cells": [
  {
   "cell_type": "code",
   "execution_count": 26,
   "id": "1d055637-fb4a-4432-8fab-64ea6170d586",
   "metadata": {},
   "outputs": [],
   "source": [
    "import pandas as pd"
   ]
  },
  {
   "cell_type": "code",
   "execution_count": 27,
   "id": "f746daef-a954-47d2-8e43-e507db2ed0e6",
   "metadata": {},
   "outputs": [],
   "source": [
    "upi_df=pd.read_csv(\"SAMPLE_DATA.csv\")"
   ]
  },
  {
   "cell_type": "code",
   "execution_count": 28,
   "id": "7a70e2a6-bde6-413f-a506-ba64be4ee6e5",
   "metadata": {},
   "outputs": [
    {
     "data": {
      "text/plain": [
       "pandas.core.frame.DataFrame"
      ]
     },
     "execution_count": 28,
     "metadata": {},
     "output_type": "execute_result"
    }
   ],
   "source": [
    "type(upi_df)"
   ]
  },
  {
   "cell_type": "code",
   "execution_count": 29,
   "id": "4bc1cacf-1fbf-4833-be21-3fa45b8d43bb",
   "metadata": {
    "scrolled": true
   },
   "outputs": [
    {
     "data": {
      "text/html": [
       "<div>\n",
       "<style scoped>\n",
       "    .dataframe tbody tr th:only-of-type {\n",
       "        vertical-align: middle;\n",
       "    }\n",
       "\n",
       "    .dataframe tbody tr th {\n",
       "        vertical-align: top;\n",
       "    }\n",
       "\n",
       "    .dataframe thead th {\n",
       "        text-align: right;\n",
       "    }\n",
       "</style>\n",
       "<table border=\"1\" class=\"dataframe\">\n",
       "  <thead>\n",
       "    <tr style=\"text-align: right;\">\n",
       "      <th></th>\n",
       "      <th>UPI Banks</th>\n",
       "      <th>Volume (Mn) By Costumers</th>\n",
       "      <th>Value (Cr) by Costumers</th>\n",
       "      <th>Volume (Mn)</th>\n",
       "      <th>Value (Cr)</th>\n",
       "      <th>Month</th>\n",
       "      <th>Year</th>\n",
       "    </tr>\n",
       "  </thead>\n",
       "  <tbody>\n",
       "    <tr>\n",
       "      <th>0</th>\n",
       "      <td>Airtel Payments Bank Apps</td>\n",
       "      <td>9.04</td>\n",
       "      <td>2248.49</td>\n",
       "      <td>15.12</td>\n",
       "      <td>5732.09</td>\n",
       "      <td>12</td>\n",
       "      <td>2021</td>\n",
       "    </tr>\n",
       "    <tr>\n",
       "      <th>1</th>\n",
       "      <td>Airtel Payments Bank Apps</td>\n",
       "      <td>8.41</td>\n",
       "      <td>1923.95</td>\n",
       "      <td>15.90</td>\n",
       "      <td>5554.63</td>\n",
       "      <td>11</td>\n",
       "      <td>2021</td>\n",
       "    </tr>\n",
       "    <tr>\n",
       "      <th>2</th>\n",
       "      <td>Airtel Payments Bank Apps</td>\n",
       "      <td>7.60</td>\n",
       "      <td>1491.34</td>\n",
       "      <td>14.31</td>\n",
       "      <td>4746.79</td>\n",
       "      <td>10</td>\n",
       "      <td>2021</td>\n",
       "    </tr>\n",
       "    <tr>\n",
       "      <th>3</th>\n",
       "      <td>Airtel Payments Bank Apps</td>\n",
       "      <td>6.91</td>\n",
       "      <td>1520.92</td>\n",
       "      <td>11.52</td>\n",
       "      <td>3759.12</td>\n",
       "      <td>9</td>\n",
       "      <td>2021</td>\n",
       "    </tr>\n",
       "    <tr>\n",
       "      <th>4</th>\n",
       "      <td>Airtel Payments Bank Apps</td>\n",
       "      <td>6.14</td>\n",
       "      <td>1396.65</td>\n",
       "      <td>9.31</td>\n",
       "      <td>2941.88</td>\n",
       "      <td>8</td>\n",
       "      <td>2021</td>\n",
       "    </tr>\n",
       "    <tr>\n",
       "      <th>...</th>\n",
       "      <td>...</td>\n",
       "      <td>...</td>\n",
       "      <td>...</td>\n",
       "      <td>...</td>\n",
       "      <td>...</td>\n",
       "      <td>...</td>\n",
       "      <td>...</td>\n",
       "    </tr>\n",
       "    <tr>\n",
       "      <th>649</th>\n",
       "      <td>YuvaPay</td>\n",
       "      <td>1.33</td>\n",
       "      <td>60.44</td>\n",
       "      <td>1.33</td>\n",
       "      <td>60.44</td>\n",
       "      <td>6</td>\n",
       "      <td>2021</td>\n",
       "    </tr>\n",
       "    <tr>\n",
       "      <th>650</th>\n",
       "      <td>YuvaPay</td>\n",
       "      <td>2.32</td>\n",
       "      <td>73.16</td>\n",
       "      <td>2.32</td>\n",
       "      <td>73.16</td>\n",
       "      <td>5</td>\n",
       "      <td>2021</td>\n",
       "    </tr>\n",
       "    <tr>\n",
       "      <th>651</th>\n",
       "      <td>YuvaPay</td>\n",
       "      <td>1.59</td>\n",
       "      <td>51.22</td>\n",
       "      <td>1.59</td>\n",
       "      <td>51.22</td>\n",
       "      <td>4</td>\n",
       "      <td>2021</td>\n",
       "    </tr>\n",
       "    <tr>\n",
       "      <th>652</th>\n",
       "      <td>YuvaPay</td>\n",
       "      <td>0.56</td>\n",
       "      <td>18.56</td>\n",
       "      <td>0.56</td>\n",
       "      <td>18.56</td>\n",
       "      <td>3</td>\n",
       "      <td>2021</td>\n",
       "    </tr>\n",
       "    <tr>\n",
       "      <th>653</th>\n",
       "      <td>YuvaPay</td>\n",
       "      <td>0.02</td>\n",
       "      <td>0.63</td>\n",
       "      <td>0.02</td>\n",
       "      <td>0.63</td>\n",
       "      <td>2</td>\n",
       "      <td>2021</td>\n",
       "    </tr>\n",
       "  </tbody>\n",
       "</table>\n",
       "<p>654 rows × 7 columns</p>\n",
       "</div>"
      ],
      "text/plain": [
       "                     UPI Banks  Volume (Mn) By Costumers  \\\n",
       "0    Airtel Payments Bank Apps                      9.04   \n",
       "1    Airtel Payments Bank Apps                      8.41   \n",
       "2    Airtel Payments Bank Apps                      7.60   \n",
       "3    Airtel Payments Bank Apps                      6.91   \n",
       "4    Airtel Payments Bank Apps                      6.14   \n",
       "..                         ...                       ...   \n",
       "649                    YuvaPay                      1.33   \n",
       "650                    YuvaPay                      2.32   \n",
       "651                    YuvaPay                      1.59   \n",
       "652                    YuvaPay                      0.56   \n",
       "653                    YuvaPay                      0.02   \n",
       "\n",
       "     Value (Cr) by Costumers  Volume (Mn)  Value (Cr)  Month  Year  \n",
       "0                    2248.49        15.12     5732.09     12  2021  \n",
       "1                    1923.95        15.90     5554.63     11  2021  \n",
       "2                    1491.34        14.31     4746.79     10  2021  \n",
       "3                    1520.92        11.52     3759.12      9  2021  \n",
       "4                    1396.65         9.31     2941.88      8  2021  \n",
       "..                       ...          ...         ...    ...   ...  \n",
       "649                    60.44         1.33       60.44      6  2021  \n",
       "650                    73.16         2.32       73.16      5  2021  \n",
       "651                    51.22         1.59       51.22      4  2021  \n",
       "652                    18.56         0.56       18.56      3  2021  \n",
       "653                     0.63         0.02        0.63      2  2021  \n",
       "\n",
       "[654 rows x 7 columns]"
      ]
     },
     "execution_count": 29,
     "metadata": {},
     "output_type": "execute_result"
    }
   ],
   "source": [
    "upi_df"
   ]
  },
  {
   "cell_type": "code",
   "execution_count": 30,
   "id": "14c8bda8-15e6-4dde-9a07-44a55c216e33",
   "metadata": {},
   "outputs": [
    {
     "name": "stdout",
     "output_type": "stream",
     "text": [
      "<class 'pandas.core.frame.DataFrame'>\n",
      "RangeIndex: 654 entries, 0 to 653\n",
      "Data columns (total 7 columns):\n",
      " #   Column                    Non-Null Count  Dtype  \n",
      "---  ------                    --------------  -----  \n",
      " 0   UPI Banks                 654 non-null    object \n",
      " 1   Volume (Mn) By Costumers  654 non-null    float64\n",
      " 2   Value (Cr) by Costumers   654 non-null    float64\n",
      " 3   Volume (Mn)               654 non-null    float64\n",
      " 4   Value (Cr)                654 non-null    float64\n",
      " 5   Month                     654 non-null    int64  \n",
      " 6   Year                      654 non-null    int64  \n",
      "dtypes: float64(4), int64(2), object(1)\n",
      "memory usage: 35.9+ KB\n"
     ]
    }
   ],
   "source": [
    "upi_df.info()"
   ]
  },
  {
   "cell_type": "code",
   "execution_count": 31,
   "id": "4c3e9bdd-6c47-430a-bc60-a2c9ce742871",
   "metadata": {},
   "outputs": [
    {
     "data": {
      "text/html": [
       "<div>\n",
       "<style scoped>\n",
       "    .dataframe tbody tr th:only-of-type {\n",
       "        vertical-align: middle;\n",
       "    }\n",
       "\n",
       "    .dataframe tbody tr th {\n",
       "        vertical-align: top;\n",
       "    }\n",
       "\n",
       "    .dataframe thead th {\n",
       "        text-align: right;\n",
       "    }\n",
       "</style>\n",
       "<table border=\"1\" class=\"dataframe\">\n",
       "  <thead>\n",
       "    <tr style=\"text-align: right;\">\n",
       "      <th></th>\n",
       "      <th>Volume (Mn) By Costumers</th>\n",
       "      <th>Value (Cr) by Costumers</th>\n",
       "      <th>Volume (Mn)</th>\n",
       "      <th>Value (Cr)</th>\n",
       "      <th>Month</th>\n",
       "      <th>Year</th>\n",
       "    </tr>\n",
       "  </thead>\n",
       "  <tbody>\n",
       "    <tr>\n",
       "      <th>count</th>\n",
       "      <td>654.000000</td>\n",
       "      <td>654.000000</td>\n",
       "      <td>654.000000</td>\n",
       "      <td>654.000000</td>\n",
       "      <td>654.000000</td>\n",
       "      <td>654.0</td>\n",
       "    </tr>\n",
       "    <tr>\n",
       "      <th>mean</th>\n",
       "      <td>57.960948</td>\n",
       "      <td>10943.292813</td>\n",
       "      <td>60.460321</td>\n",
       "      <td>11134.196682</td>\n",
       "      <td>6.571865</td>\n",
       "      <td>2021.0</td>\n",
       "    </tr>\n",
       "    <tr>\n",
       "      <th>std</th>\n",
       "      <td>256.842682</td>\n",
       "      <td>49450.615924</td>\n",
       "      <td>258.686922</td>\n",
       "      <td>49588.538504</td>\n",
       "      <td>3.488797</td>\n",
       "      <td>0.0</td>\n",
       "    </tr>\n",
       "    <tr>\n",
       "      <th>min</th>\n",
       "      <td>0.010000</td>\n",
       "      <td>0.410000</td>\n",
       "      <td>0.010000</td>\n",
       "      <td>0.410000</td>\n",
       "      <td>1.000000</td>\n",
       "      <td>2021.0</td>\n",
       "    </tr>\n",
       "    <tr>\n",
       "      <th>25%</th>\n",
       "      <td>0.050000</td>\n",
       "      <td>21.132500</td>\n",
       "      <td>0.050000</td>\n",
       "      <td>21.132500</td>\n",
       "      <td>3.250000</td>\n",
       "      <td>2021.0</td>\n",
       "    </tr>\n",
       "    <tr>\n",
       "      <th>50%</th>\n",
       "      <td>0.250000</td>\n",
       "      <td>60.640000</td>\n",
       "      <td>0.250000</td>\n",
       "      <td>60.745000</td>\n",
       "      <td>7.000000</td>\n",
       "      <td>2021.0</td>\n",
       "    </tr>\n",
       "    <tr>\n",
       "      <th>75%</th>\n",
       "      <td>2.357500</td>\n",
       "      <td>401.312500</td>\n",
       "      <td>2.357500</td>\n",
       "      <td>407.062500</td>\n",
       "      <td>10.000000</td>\n",
       "      <td>2021.0</td>\n",
       "    </tr>\n",
       "    <tr>\n",
       "      <th>max</th>\n",
       "      <td>2077.600000</td>\n",
       "      <td>394565.580000</td>\n",
       "      <td>2077.600000</td>\n",
       "      <td>394565.580000</td>\n",
       "      <td>12.000000</td>\n",
       "      <td>2021.0</td>\n",
       "    </tr>\n",
       "  </tbody>\n",
       "</table>\n",
       "</div>"
      ],
      "text/plain": [
       "       Volume (Mn) By Costumers  Value (Cr) by Costumers  Volume (Mn)  \\\n",
       "count                654.000000               654.000000   654.000000   \n",
       "mean                  57.960948             10943.292813    60.460321   \n",
       "std                  256.842682             49450.615924   258.686922   \n",
       "min                    0.010000                 0.410000     0.010000   \n",
       "25%                    0.050000                21.132500     0.050000   \n",
       "50%                    0.250000                60.640000     0.250000   \n",
       "75%                    2.357500               401.312500     2.357500   \n",
       "max                 2077.600000            394565.580000  2077.600000   \n",
       "\n",
       "          Value (Cr)       Month    Year  \n",
       "count     654.000000  654.000000   654.0  \n",
       "mean    11134.196682    6.571865  2021.0  \n",
       "std     49588.538504    3.488797     0.0  \n",
       "min         0.410000    1.000000  2021.0  \n",
       "25%        21.132500    3.250000  2021.0  \n",
       "50%        60.745000    7.000000  2021.0  \n",
       "75%       407.062500   10.000000  2021.0  \n",
       "max    394565.580000   12.000000  2021.0  "
      ]
     },
     "execution_count": 31,
     "metadata": {},
     "output_type": "execute_result"
    }
   ],
   "source": [
    "upi_df.describe()"
   ]
  },
  {
   "cell_type": "code",
   "execution_count": 32,
   "id": "f57e630c-f63e-4149-b52b-19a8c3167b1d",
   "metadata": {},
   "outputs": [
    {
     "data": {
      "text/plain": [
       "Index(['UPI Banks', 'Volume (Mn) By Costumers', 'Value (Cr) by Costumers',\n",
       "       'Volume (Mn)', 'Value (Cr)', 'Month', 'Year'],\n",
       "      dtype='object')"
      ]
     },
     "execution_count": 32,
     "metadata": {},
     "output_type": "execute_result"
    }
   ],
   "source": [
    "upi_df.columns"
   ]
  },
  {
   "cell_type": "code",
   "execution_count": 33,
   "id": "455995b2-952b-4799-830c-fbad7fef0d73",
   "metadata": {},
   "outputs": [
    {
     "data": {
      "text/plain": [
       "(654, 7)"
      ]
     },
     "execution_count": 33,
     "metadata": {},
     "output_type": "execute_result"
    }
   ],
   "source": [
    "upi_df.shape"
   ]
  },
  {
   "cell_type": "code",
   "execution_count": 34,
   "id": "667ea547-8aae-4180-b82d-9a59de4ac5a7",
   "metadata": {},
   "outputs": [
    {
     "data": {
      "text/plain": [
       "0      12\n",
       "1      11\n",
       "2      10\n",
       "3       9\n",
       "4       8\n",
       "       ..\n",
       "649     6\n",
       "650     5\n",
       "651     4\n",
       "652     3\n",
       "653     2\n",
       "Name: Month, Length: 654, dtype: int64"
      ]
     },
     "execution_count": 34,
     "metadata": {},
     "output_type": "execute_result"
    }
   ],
   "source": [
    "upi_df.Month"
   ]
  },
  {
   "cell_type": "code",
   "execution_count": 35,
   "id": "4646b820-e3d5-43a7-9ac2-24b8c3e06e16",
   "metadata": {},
   "outputs": [
    {
     "data": {
      "text/plain": [
       "2021"
      ]
     },
     "execution_count": 35,
     "metadata": {},
     "output_type": "execute_result"
    }
   ],
   "source": [
    "upi_df.at[345,'Year']"
   ]
  },
  {
   "cell_type": "code",
   "execution_count": 36,
   "id": "4fa28082-3f16-4f7b-864b-bafd83e85172",
   "metadata": {},
   "outputs": [
    {
     "data": {
      "text/html": [
       "<div>\n",
       "<style scoped>\n",
       "    .dataframe tbody tr th:only-of-type {\n",
       "        vertical-align: middle;\n",
       "    }\n",
       "\n",
       "    .dataframe tbody tr th {\n",
       "        vertical-align: top;\n",
       "    }\n",
       "\n",
       "    .dataframe thead th {\n",
       "        text-align: right;\n",
       "    }\n",
       "</style>\n",
       "<table border=\"1\" class=\"dataframe\">\n",
       "  <thead>\n",
       "    <tr style=\"text-align: right;\">\n",
       "      <th></th>\n",
       "      <th>UPI Banks</th>\n",
       "      <th>Volume (Mn) By Costumers</th>\n",
       "      <th>Value (Cr) by Costumers</th>\n",
       "      <th>Volume (Mn)</th>\n",
       "      <th>Value (Cr)</th>\n",
       "      <th>Month</th>\n",
       "      <th>Year</th>\n",
       "    </tr>\n",
       "  </thead>\n",
       "  <tbody>\n",
       "    <tr>\n",
       "      <th>0</th>\n",
       "      <td>Airtel Payments Bank Apps</td>\n",
       "      <td>9.04</td>\n",
       "      <td>2248.49</td>\n",
       "      <td>15.12</td>\n",
       "      <td>5732.09</td>\n",
       "      <td>12</td>\n",
       "      <td>2021</td>\n",
       "    </tr>\n",
       "    <tr>\n",
       "      <th>1</th>\n",
       "      <td>Airtel Payments Bank Apps</td>\n",
       "      <td>8.41</td>\n",
       "      <td>1923.95</td>\n",
       "      <td>15.90</td>\n",
       "      <td>5554.63</td>\n",
       "      <td>11</td>\n",
       "      <td>2021</td>\n",
       "    </tr>\n",
       "    <tr>\n",
       "      <th>2</th>\n",
       "      <td>Airtel Payments Bank Apps</td>\n",
       "      <td>7.60</td>\n",
       "      <td>1491.34</td>\n",
       "      <td>14.31</td>\n",
       "      <td>4746.79</td>\n",
       "      <td>10</td>\n",
       "      <td>2021</td>\n",
       "    </tr>\n",
       "    <tr>\n",
       "      <th>3</th>\n",
       "      <td>Airtel Payments Bank Apps</td>\n",
       "      <td>6.91</td>\n",
       "      <td>1520.92</td>\n",
       "      <td>11.52</td>\n",
       "      <td>3759.12</td>\n",
       "      <td>9</td>\n",
       "      <td>2021</td>\n",
       "    </tr>\n",
       "    <tr>\n",
       "      <th>4</th>\n",
       "      <td>Airtel Payments Bank Apps</td>\n",
       "      <td>6.14</td>\n",
       "      <td>1396.65</td>\n",
       "      <td>9.31</td>\n",
       "      <td>2941.88</td>\n",
       "      <td>8</td>\n",
       "      <td>2021</td>\n",
       "    </tr>\n",
       "    <tr>\n",
       "      <th>5</th>\n",
       "      <td>Airtel Payments Bank Apps</td>\n",
       "      <td>5.79</td>\n",
       "      <td>1534.21</td>\n",
       "      <td>7.36</td>\n",
       "      <td>2342.76</td>\n",
       "      <td>7</td>\n",
       "      <td>2021</td>\n",
       "    </tr>\n",
       "    <tr>\n",
       "      <th>6</th>\n",
       "      <td>Airtel Payments Bank Apps</td>\n",
       "      <td>5.06</td>\n",
       "      <td>1323.26</td>\n",
       "      <td>6.69</td>\n",
       "      <td>2821.94</td>\n",
       "      <td>6</td>\n",
       "      <td>2021</td>\n",
       "    </tr>\n",
       "    <tr>\n",
       "      <th>7</th>\n",
       "      <td>Airtel Payments Bank Apps</td>\n",
       "      <td>4.06</td>\n",
       "      <td>429.12</td>\n",
       "      <td>4.06</td>\n",
       "      <td>429.12</td>\n",
       "      <td>5</td>\n",
       "      <td>2021</td>\n",
       "    </tr>\n",
       "    <tr>\n",
       "      <th>8</th>\n",
       "      <td>Airtel Payments Bank Apps</td>\n",
       "      <td>3.53</td>\n",
       "      <td>363.66</td>\n",
       "      <td>14.70</td>\n",
       "      <td>11172.43</td>\n",
       "      <td>4</td>\n",
       "      <td>2021</td>\n",
       "    </tr>\n",
       "    <tr>\n",
       "      <th>9</th>\n",
       "      <td>Airtel Payments Bank Apps</td>\n",
       "      <td>3.79</td>\n",
       "      <td>381.74</td>\n",
       "      <td>3.79</td>\n",
       "      <td>381.74</td>\n",
       "      <td>3</td>\n",
       "      <td>2021</td>\n",
       "    </tr>\n",
       "  </tbody>\n",
       "</table>\n",
       "</div>"
      ],
      "text/plain": [
       "                   UPI Banks  Volume (Mn) By Costumers  \\\n",
       "0  Airtel Payments Bank Apps                      9.04   \n",
       "1  Airtel Payments Bank Apps                      8.41   \n",
       "2  Airtel Payments Bank Apps                      7.60   \n",
       "3  Airtel Payments Bank Apps                      6.91   \n",
       "4  Airtel Payments Bank Apps                      6.14   \n",
       "5  Airtel Payments Bank Apps                      5.79   \n",
       "6  Airtel Payments Bank Apps                      5.06   \n",
       "7  Airtel Payments Bank Apps                      4.06   \n",
       "8  Airtel Payments Bank Apps                      3.53   \n",
       "9  Airtel Payments Bank Apps                      3.79   \n",
       "\n",
       "   Value (Cr) by Costumers  Volume (Mn)  Value (Cr)  Month  Year  \n",
       "0                  2248.49        15.12     5732.09     12  2021  \n",
       "1                  1923.95        15.90     5554.63     11  2021  \n",
       "2                  1491.34        14.31     4746.79     10  2021  \n",
       "3                  1520.92        11.52     3759.12      9  2021  \n",
       "4                  1396.65         9.31     2941.88      8  2021  \n",
       "5                  1534.21         7.36     2342.76      7  2021  \n",
       "6                  1323.26         6.69     2821.94      6  2021  \n",
       "7                   429.12         4.06      429.12      5  2021  \n",
       "8                   363.66        14.70    11172.43      4  2021  \n",
       "9                   381.74         3.79      381.74      3  2021  "
      ]
     },
     "execution_count": 36,
     "metadata": {},
     "output_type": "execute_result"
    }
   ],
   "source": [
    "upi_df.head(10)"
   ]
  },
  {
   "cell_type": "code",
   "execution_count": 37,
   "id": "8f6add2a-beb8-42b5-be11-aa699434eb5b",
   "metadata": {},
   "outputs": [
    {
     "data": {
      "text/html": [
       "<div>\n",
       "<style scoped>\n",
       "    .dataframe tbody tr th:only-of-type {\n",
       "        vertical-align: middle;\n",
       "    }\n",
       "\n",
       "    .dataframe tbody tr th {\n",
       "        vertical-align: top;\n",
       "    }\n",
       "\n",
       "    .dataframe thead th {\n",
       "        text-align: right;\n",
       "    }\n",
       "</style>\n",
       "<table border=\"1\" class=\"dataframe\">\n",
       "  <thead>\n",
       "    <tr style=\"text-align: right;\">\n",
       "      <th></th>\n",
       "      <th>UPI Banks</th>\n",
       "      <th>Volume (Mn) By Costumers</th>\n",
       "      <th>Value (Cr) by Costumers</th>\n",
       "      <th>Volume (Mn)</th>\n",
       "      <th>Value (Cr)</th>\n",
       "      <th>Month</th>\n",
       "      <th>Year</th>\n",
       "    </tr>\n",
       "  </thead>\n",
       "  <tbody>\n",
       "    <tr>\n",
       "      <th>644</th>\n",
       "      <td>YuvaPay</td>\n",
       "      <td>0.04</td>\n",
       "      <td>66.62</td>\n",
       "      <td>0.04</td>\n",
       "      <td>66.62</td>\n",
       "      <td>11</td>\n",
       "      <td>2021</td>\n",
       "    </tr>\n",
       "    <tr>\n",
       "      <th>645</th>\n",
       "      <td>YuvaPay</td>\n",
       "      <td>0.04</td>\n",
       "      <td>61.62</td>\n",
       "      <td>0.04</td>\n",
       "      <td>61.62</td>\n",
       "      <td>10</td>\n",
       "      <td>2021</td>\n",
       "    </tr>\n",
       "    <tr>\n",
       "      <th>646</th>\n",
       "      <td>YuvaPay</td>\n",
       "      <td>0.04</td>\n",
       "      <td>46.94</td>\n",
       "      <td>0.04</td>\n",
       "      <td>46.94</td>\n",
       "      <td>9</td>\n",
       "      <td>2021</td>\n",
       "    </tr>\n",
       "    <tr>\n",
       "      <th>647</th>\n",
       "      <td>YuvaPay</td>\n",
       "      <td>0.02</td>\n",
       "      <td>19.01</td>\n",
       "      <td>0.02</td>\n",
       "      <td>19.01</td>\n",
       "      <td>8</td>\n",
       "      <td>2021</td>\n",
       "    </tr>\n",
       "    <tr>\n",
       "      <th>648</th>\n",
       "      <td>YuvaPay</td>\n",
       "      <td>0.48</td>\n",
       "      <td>38.30</td>\n",
       "      <td>0.48</td>\n",
       "      <td>38.30</td>\n",
       "      <td>7</td>\n",
       "      <td>2021</td>\n",
       "    </tr>\n",
       "    <tr>\n",
       "      <th>649</th>\n",
       "      <td>YuvaPay</td>\n",
       "      <td>1.33</td>\n",
       "      <td>60.44</td>\n",
       "      <td>1.33</td>\n",
       "      <td>60.44</td>\n",
       "      <td>6</td>\n",
       "      <td>2021</td>\n",
       "    </tr>\n",
       "    <tr>\n",
       "      <th>650</th>\n",
       "      <td>YuvaPay</td>\n",
       "      <td>2.32</td>\n",
       "      <td>73.16</td>\n",
       "      <td>2.32</td>\n",
       "      <td>73.16</td>\n",
       "      <td>5</td>\n",
       "      <td>2021</td>\n",
       "    </tr>\n",
       "    <tr>\n",
       "      <th>651</th>\n",
       "      <td>YuvaPay</td>\n",
       "      <td>1.59</td>\n",
       "      <td>51.22</td>\n",
       "      <td>1.59</td>\n",
       "      <td>51.22</td>\n",
       "      <td>4</td>\n",
       "      <td>2021</td>\n",
       "    </tr>\n",
       "    <tr>\n",
       "      <th>652</th>\n",
       "      <td>YuvaPay</td>\n",
       "      <td>0.56</td>\n",
       "      <td>18.56</td>\n",
       "      <td>0.56</td>\n",
       "      <td>18.56</td>\n",
       "      <td>3</td>\n",
       "      <td>2021</td>\n",
       "    </tr>\n",
       "    <tr>\n",
       "      <th>653</th>\n",
       "      <td>YuvaPay</td>\n",
       "      <td>0.02</td>\n",
       "      <td>0.63</td>\n",
       "      <td>0.02</td>\n",
       "      <td>0.63</td>\n",
       "      <td>2</td>\n",
       "      <td>2021</td>\n",
       "    </tr>\n",
       "  </tbody>\n",
       "</table>\n",
       "</div>"
      ],
      "text/plain": [
       "    UPI Banks  Volume (Mn) By Costumers  Value (Cr) by Costumers  Volume (Mn)  \\\n",
       "644   YuvaPay                      0.04                    66.62         0.04   \n",
       "645   YuvaPay                      0.04                    61.62         0.04   \n",
       "646   YuvaPay                      0.04                    46.94         0.04   \n",
       "647   YuvaPay                      0.02                    19.01         0.02   \n",
       "648   YuvaPay                      0.48                    38.30         0.48   \n",
       "649   YuvaPay                      1.33                    60.44         1.33   \n",
       "650   YuvaPay                      2.32                    73.16         2.32   \n",
       "651   YuvaPay                      1.59                    51.22         1.59   \n",
       "652   YuvaPay                      0.56                    18.56         0.56   \n",
       "653   YuvaPay                      0.02                     0.63         0.02   \n",
       "\n",
       "     Value (Cr)  Month  Year  \n",
       "644       66.62     11  2021  \n",
       "645       61.62     10  2021  \n",
       "646       46.94      9  2021  \n",
       "647       19.01      8  2021  \n",
       "648       38.30      7  2021  \n",
       "649       60.44      6  2021  \n",
       "650       73.16      5  2021  \n",
       "651       51.22      4  2021  \n",
       "652       18.56      3  2021  \n",
       "653        0.63      2  2021  "
      ]
     },
     "execution_count": 37,
     "metadata": {},
     "output_type": "execute_result"
    }
   ],
   "source": [
    "upi_df.tail(10)"
   ]
  },
  {
   "cell_type": "code",
   "execution_count": 38,
   "id": "baacb0fc-4fba-4c6e-81da-11288dfd4a7e",
   "metadata": {},
   "outputs": [
    {
     "data": {
      "text/plain": [
       "<pandas.core.indexing._LocIndexer at 0x1c04ab12210>"
      ]
     },
     "execution_count": 38,
     "metadata": {},
     "output_type": "execute_result"
    }
   ],
   "source": [
    "upi_df.loc()"
   ]
  },
  {
   "cell_type": "code",
   "execution_count": 39,
   "id": "1b84683d-a65c-41fe-bd57-892256955403",
   "metadata": {},
   "outputs": [
    {
     "data": {
      "text/plain": [
       "UPI Banks                   0\n",
       "Volume (Mn) By Costumers    0\n",
       "Value (Cr) by Costumers     0\n",
       "Volume (Mn)                 0\n",
       "Value (Cr)                  0\n",
       "Month                       0\n",
       "Year                        0\n",
       "dtype: int64"
      ]
     },
     "execution_count": 39,
     "metadata": {},
     "output_type": "execute_result"
    }
   ],
   "source": [
    "upi_df.isnull().sum()"
   ]
  },
  {
   "cell_type": "code",
   "execution_count": 58,
   "id": "b0192ec7-176f-4fff-8e15-be1e0e1c5f5f",
   "metadata": {},
   "outputs": [],
   "source": [
    "upi_df.columns = [c.replace(' ', '_') for c in upi_df.columns]\n"
   ]
  },
  {
   "cell_type": "code",
   "execution_count": 59,
   "id": "1bcd82d0-80ab-418f-b1f1-ca6b36293cad",
   "metadata": {},
   "outputs": [
    {
     "ename": "AttributeError",
     "evalue": "'DataFrame' object has no attribute 'Volume'",
     "output_type": "error",
     "traceback": [
      "\u001b[1;31m---------------------------------------------------------------------------\u001b[0m",
      "\u001b[1;31mAttributeError\u001b[0m                            Traceback (most recent call last)",
      "\u001b[1;32m~\\AppData\\Local\\Temp\\ipykernel_14708\\1785453692.py\u001b[0m in \u001b[0;36m?\u001b[1;34m()\u001b[0m\n\u001b[1;32m----> 1\u001b[1;33m \u001b[0mupi_df\u001b[0m\u001b[1;33m.\u001b[0m\u001b[0mVolume\u001b[0m\u001b[1;33m\u001b[0m\u001b[1;33m\u001b[0m\u001b[0m\n\u001b[0m",
      "\u001b[1;32m~\\AppData\\Local\\Programs\\Python\\Python312\\Lib\\site-packages\\pandas\\core\\generic.py\u001b[0m in \u001b[0;36m?\u001b[1;34m(self, name)\u001b[0m\n\u001b[0;32m   6200\u001b[0m             \u001b[1;32mand\u001b[0m \u001b[0mname\u001b[0m \u001b[1;32mnot\u001b[0m \u001b[1;32min\u001b[0m \u001b[0mself\u001b[0m\u001b[1;33m.\u001b[0m\u001b[0m_accessors\u001b[0m\u001b[1;33m\u001b[0m\u001b[1;33m\u001b[0m\u001b[0m\n\u001b[0;32m   6201\u001b[0m             \u001b[1;32mand\u001b[0m \u001b[0mself\u001b[0m\u001b[1;33m.\u001b[0m\u001b[0m_info_axis\u001b[0m\u001b[1;33m.\u001b[0m\u001b[0m_can_hold_identifiers_and_holds_name\u001b[0m\u001b[1;33m(\u001b[0m\u001b[0mname\u001b[0m\u001b[1;33m)\u001b[0m\u001b[1;33m\u001b[0m\u001b[1;33m\u001b[0m\u001b[0m\n\u001b[0;32m   6202\u001b[0m         \u001b[1;33m)\u001b[0m\u001b[1;33m:\u001b[0m\u001b[1;33m\u001b[0m\u001b[1;33m\u001b[0m\u001b[0m\n\u001b[0;32m   6203\u001b[0m             \u001b[1;32mreturn\u001b[0m \u001b[0mself\u001b[0m\u001b[1;33m[\u001b[0m\u001b[0mname\u001b[0m\u001b[1;33m]\u001b[0m\u001b[1;33m\u001b[0m\u001b[1;33m\u001b[0m\u001b[0m\n\u001b[1;32m-> 6204\u001b[1;33m         \u001b[1;32mreturn\u001b[0m \u001b[0mobject\u001b[0m\u001b[1;33m.\u001b[0m\u001b[0m__getattribute__\u001b[0m\u001b[1;33m(\u001b[0m\u001b[0mself\u001b[0m\u001b[1;33m,\u001b[0m \u001b[0mname\u001b[0m\u001b[1;33m)\u001b[0m\u001b[1;33m\u001b[0m\u001b[1;33m\u001b[0m\u001b[0m\n\u001b[0m",
      "\u001b[1;31mAttributeError\u001b[0m: 'DataFrame' object has no attribute 'Volume'"
     ]
    }
   ],
   "source": [
    "upi_df.Volume"
   ]
  },
  {
   "cell_type": "code",
   "execution_count": 46,
   "id": "dc312677-55d4-457e-9e9c-ed2f38f1f4ce",
   "metadata": {},
   "outputs": [
    {
     "data": {
      "image/png": "[encoded data removed]",
      "text/plain": [
       "<Figure size 640x480 with 1 Axes>"
      ]
     },
     "metadata": {},
     "output_type": "display_data"
    }
   ],
   "source": [
    "upi_df.Month.plot();"
   ]
  },
  {
   "cell_type": "code",
   "execution_count": 53,
   "id": "314b58c5-4521-491f-8bfa-95e4f2b9b12f",
   "metadata": {},
   "outputs": [
    {
     "ename": "AttributeError",
     "evalue": "'DataFrame' object has no attribute 'unique'",
     "output_type": "error",
     "traceback": [
      "\u001b[1;31m---------------------------------------------------------------------------\u001b[0m",
      "\u001b[1;31mAttributeError\u001b[0m                            Traceback (most recent call last)",
      "\u001b[1;32m~\\AppData\\Local\\Temp\\ipykernel_14708\\44082601.py\u001b[0m in \u001b[0;36m?\u001b[1;34m()\u001b[0m\n\u001b[1;32m----> 1\u001b[1;33m \u001b[0mupi_df\u001b[0m\u001b[1;33m.\u001b[0m\u001b[0munique\u001b[0m\u001b[1;33m(\u001b[0m\u001b[1;33m)\u001b[0m\u001b[1;33m\u001b[0m\u001b[1;33m\u001b[0m\u001b[0m\n\u001b[0m",
      "\u001b[1;32m~\\AppData\\Local\\Programs\\Python\\Python312\\Lib\\site-packages\\pandas\\core\\generic.py\u001b[0m in \u001b[0;36m?\u001b[1;34m(self, name)\u001b[0m\n\u001b[0;32m   6200\u001b[0m             \u001b[1;32mand\u001b[0m \u001b[0mname\u001b[0m \u001b[1;32mnot\u001b[0m \u001b[1;32min\u001b[0m \u001b[0mself\u001b[0m\u001b[1;33m.\u001b[0m\u001b[0m_accessors\u001b[0m\u001b[1;33m\u001b[0m\u001b[1;33m\u001b[0m\u001b[0m\n\u001b[0;32m   6201\u001b[0m             \u001b[1;32mand\u001b[0m \u001b[0mself\u001b[0m\u001b[1;33m.\u001b[0m\u001b[0m_info_axis\u001b[0m\u001b[1;33m.\u001b[0m\u001b[0m_can_hold_identifiers_and_holds_name\u001b[0m\u001b[1;33m(\u001b[0m\u001b[0mname\u001b[0m\u001b[1;33m)\u001b[0m\u001b[1;33m\u001b[0m\u001b[1;33m\u001b[0m\u001b[0m\n\u001b[0;32m   6202\u001b[0m         \u001b[1;33m)\u001b[0m\u001b[1;33m:\u001b[0m\u001b[1;33m\u001b[0m\u001b[1;33m\u001b[0m\u001b[0m\n\u001b[0;32m   6203\u001b[0m             \u001b[1;32mreturn\u001b[0m \u001b[0mself\u001b[0m\u001b[1;33m[\u001b[0m\u001b[0mname\u001b[0m\u001b[1;33m]\u001b[0m\u001b[1;33m\u001b[0m\u001b[1;33m\u001b[0m\u001b[0m\n\u001b[1;32m-> 6204\u001b[1;33m         \u001b[1;32mreturn\u001b[0m \u001b[0mobject\u001b[0m\u001b[1;33m.\u001b[0m\u001b[0m__getattribute__\u001b[0m\u001b[1;33m(\u001b[0m\u001b[0mself\u001b[0m\u001b[1;33m,\u001b[0m \u001b[0mname\u001b[0m\u001b[1;33m)\u001b[0m\u001b[1;33m\u001b[0m\u001b[1;33m\u001b[0m\u001b[0m\n\u001b[0m",
      "\u001b[1;31mAttributeError\u001b[0m: 'DataFrame' object has no attribute 'unique'"
     ]
    }
   ],
   "source": [
    "upi_df.unique()"
   ]
  },
  {
   "cell_type": "code",
   "execution_count": null,
   "id": "888e06a6-36d2-4918-8019-1e043a2c58ea",
   "metadata": {},
   "outputs": [],
   "source": []
  }
 ],
 "metadata": {
  "kernelspec": {
   "display_name": "Python 3 (ipykernel)",
   "language": "python",
   "name": "python3"
  },
  "language_info": {
   "codemirror_mode": {
    "name": "ipython",
    "version": 3
   },
   "file_extension": ".py",
   "mimetype": "text/x-python",
   "name": "python",
   "nbconvert_exporter": "python",
   "pygments_lexer": "ipython3",
   "version": "3.12.0"
  }
 },
 "nbformat": 4,
 "nbformat_minor": 5
}
