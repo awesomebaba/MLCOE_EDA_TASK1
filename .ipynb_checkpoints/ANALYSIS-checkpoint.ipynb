{
 "cells": [
  {
   "cell_type": "code",
   "execution_count": 4,
   "id": "efad8fc3-2381-41ad-9c56-c4ed969152f4",
   "metadata": {},
   "outputs": [
    {
     "name": "stdout",
     "output_type": "stream",
     "text": [
      "lets start\n"
     ]
    }
   ],
   "source": [
    "print(\"lets start\")"
   ]
  },
  {
   "cell_type": "code",
   "execution_count": 9,
   "id": "b1c545bc-7d15-4655-8e6e-b779818086b6",
   "metadata": {},
   "outputs": [],
   "source": [
    "import numpy as np"
   ]
  },
  {
   "cell_type": "code",
   "execution_count": 10,
   "id": "503aba9a-0f7d-4b98-918f-6aa2103b4d2b",
   "metadata": {},
   "outputs": [],
   "source": [
    "kanto = np.array([3,6,5])\n",
    "vant = np.array ([0.2,0.6,0.5])"
   ]
  },
  {
   "cell_type": "code",
   "execution_count": 12,
   "id": "c71aec86-42da-4283-84fd-b7110b38422a",
   "metadata": {},
   "outputs": [
    {
     "data": {
      "text/plain": [
       "numpy.ndarray"
      ]
     },
     "execution_count": 12,
     "metadata": {},
     "output_type": "execute_result"
    }
   ],
   "source": [
    "type(kanto)\n"
   ]
  },
  {
   "cell_type": "code",
   "execution_count": 14,
   "id": "fd4ef997-111a-4202-a9f0-63f9760c2557",
   "metadata": {},
   "outputs": [
    {
     "data": {
      "text/plain": [
       "6.699999999999999"
      ]
     },
     "execution_count": 14,
     "metadata": {},
     "output_type": "execute_result"
    }
   ],
   "source": [
    "np.dot(kanto,vant)"
   ]
  },
  {
   "cell_type": "code",
   "execution_count": 15,
   "id": "9b2f9e16-7e4c-4efe-9b28-09e46c7bc234",
   "metadata": {},
   "outputs": [
    {
     "data": {
      "text/plain": [
       "array([0.6, 3.6, 2.5])"
      ]
     },
     "execution_count": 15,
     "metadata": {},
     "output_type": "execute_result"
    }
   ],
   "source": [
    "kanto * vant"
   ]
  },
  {
   "cell_type": "code",
   "execution_count": null,
   "id": "c484a3d5-923d-4635-96a7-335ff9b3fd02",
   "metadata": {},
   "outputs": [],
   "source": [
    "with"
   ]
  }
 ],
 "metadata": {
  "kernelspec": {
   "display_name": "Python 3 (ipykernel)",
   "language": "python",
   "name": "python3"
  },
  "language_info": {
   "codemirror_mode": {
    "name": "ipython",
    "version": 3
   },
   "file_extension": ".py",
   "mimetype": "text/x-python",
   "name": "python",
   "nbconvert_exporter": "python",
   "pygments_lexer": "ipython3",
   "version": "3.12.0"
  }
 },
 "nbformat": 4,
 "nbformat_minor": 5
}
